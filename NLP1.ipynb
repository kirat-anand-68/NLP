{
 "cells": [
  {
   "cell_type": "code",
   "execution_count": 1,
   "id": "ac24abfb",
   "metadata": {},
   "outputs": [],
   "source": [
    "sentence=\"her cat name is Luna\""
   ]
  },
  {
   "cell_type": "code",
   "execution_count": 2,
   "id": "b4fa78b2",
   "metadata": {},
   "outputs": [],
   "source": [
    "lower_Sentence=sentence.lower()"
   ]
  },
  {
   "cell_type": "code",
   "execution_count": 3,
   "id": "ceffc188",
   "metadata": {},
   "outputs": [
    {
     "name": "stdout",
     "output_type": "stream",
     "text": [
      "her cat name is luna\n"
     ]
    }
   ],
   "source": [
    "print(lower_Sentence)"
   ]
  },
  {
   "cell_type": "code",
   "execution_count": 4,
   "id": "83867b8b",
   "metadata": {},
   "outputs": [
    {
     "name": "stderr",
     "output_type": "stream",
     "text": [
      "[nltk_data] Downloading package stopwords to\n",
      "[nltk_data]     C:\\Users\\Kirat\\AppData\\Roaming\\nltk_data...\n",
      "[nltk_data]   Unzipping corpora\\stopwords.zip.\n"
     ]
    }
   ],
   "source": [
    "# REMOVING STOP WORDS and,of,a,to\n",
    "import nltk\n",
    "nltk.download('stopwords')\n",
    "from nltk.corpus import stopwords"
   ]
  },
  {
   "cell_type": "code",
   "execution_count": 6,
   "id": "ed40a484",
   "metadata": {},
   "outputs": [],
   "source": [
    "en_stopwords=stopwords.words('english')"
   ]
  },
  {
   "cell_type": "code",
   "execution_count": 7,
   "id": "5635f5f5",
   "metadata": {},
   "outputs": [
    {
     "name": "stdout",
     "output_type": "stream",
     "text": [
      "['a', 'about', 'above', 'after', 'again', 'against', 'ain', 'all', 'am', 'an', 'and', 'any', 'are', 'aren', \"aren't\", 'as', 'at', 'be', 'because', 'been', 'before', 'being', 'below', 'between', 'both', 'but', 'by', 'can', 'couldn', \"couldn't\", 'd', 'did', 'didn', \"didn't\", 'do', 'does', 'doesn', \"doesn't\", 'doing', 'don', \"don't\", 'down', 'during', 'each', 'few', 'for', 'from', 'further', 'had', 'hadn', \"hadn't\", 'has', 'hasn', \"hasn't\", 'have', 'haven', \"haven't\", 'having', 'he', \"he'd\", \"he'll\", 'her', 'here', 'hers', 'herself', \"he's\", 'him', 'himself', 'his', 'how', 'i', \"i'd\", 'if', \"i'll\", \"i'm\", 'in', 'into', 'is', 'isn', \"isn't\", 'it', \"it'd\", \"it'll\", \"it's\", 'its', 'itself', \"i've\", 'just', 'll', 'm', 'ma', 'me', 'mightn', \"mightn't\", 'more', 'most', 'mustn', \"mustn't\", 'my', 'myself', 'needn', \"needn't\", 'no', 'nor', 'not', 'now', 'o', 'of', 'off', 'on', 'once', 'only', 'or', 'other', 'our', 'ours', 'ourselves', 'out', 'over', 'own', 're', 's', 'same', 'shan', \"shan't\", 'she', \"she'd\", \"she'll\", \"she's\", 'should', 'shouldn', \"shouldn't\", \"should've\", 'so', 'some', 'such', 't', 'than', 'that', \"that'll\", 'the', 'their', 'theirs', 'them', 'themselves', 'then', 'there', 'these', 'they', \"they'd\", \"they'll\", \"they're\", \"they've\", 'this', 'those', 'through', 'to', 'too', 'under', 'until', 'up', 've', 'very', 'was', 'wasn', \"wasn't\", 'we', \"we'd\", \"we'll\", \"we're\", 'were', 'weren', \"weren't\", \"we've\", 'what', 'when', 'where', 'which', 'while', 'who', 'whom', 'why', 'will', 'with', 'won', \"won't\", 'wouldn', \"wouldn't\", 'y', 'you', \"you'd\", \"you'll\", 'your', \"you're\", 'yours', 'yourself', 'yourselves', \"you've\"]\n"
     ]
    }
   ],
   "source": [
    "print(en_stopwords)"
   ]
  },
  {
   "cell_type": "code",
   "execution_count": 8,
   "id": "5fb8e0cd",
   "metadata": {},
   "outputs": [],
   "source": [
    "sentence= \"it was to far to going to the shop and he did not want her to talk\""
   ]
  },
  {
   "cell_type": "code",
   "execution_count": 9,
   "id": "5977a529",
   "metadata": {},
   "outputs": [],
   "source": [
    "sentence_no_stopwords=' '.join([word for word in sentence.split() if word not in en_stopwords])"
   ]
  },
  {
   "cell_type": "code",
   "execution_count": 11,
   "id": "bc8bdece",
   "metadata": {},
   "outputs": [
    {
     "name": "stdout",
     "output_type": "stream",
     "text": [
      "far going shop want talk\n"
     ]
    }
   ],
   "source": [
    "print(sentence_no_stopwords)"
   ]
  },
  {
   "cell_type": "code",
   "execution_count": 12,
   "id": "e372dcf3",
   "metadata": {},
   "outputs": [],
   "source": [
    "#regex is a special way of writing patterns to search through text.\n",
    "import re\n"
   ]
  },
  {
   "cell_type": "code",
   "execution_count": 14,
   "id": "11fd28a6",
   "metadata": {},
   "outputs": [
    {
     "name": "stdout",
     "output_type": "stream",
     "text": [
      "C:\\desktop\\notes\n"
     ]
    }
   ],
   "source": [
    "#\\n new line\n",
    "my_folder=r\"C:\\desktop\\notes\"\n",
    "print(my_folder)"
   ]
  },
  {
   "cell_type": "code",
   "execution_count": 15,
   "id": "a27ef38c",
   "metadata": {},
   "outputs": [],
   "source": [
    "#\\n treat as a new line but with the r infront of the text it willnot consider it as a new line. print out of it as same line.\n",
    "result_search=re.search(\"pattern\",r\"string to contain the pattern\")"
   ]
  },
  {
   "cell_type": "code",
   "execution_count": 16,
   "id": "70245788",
   "metadata": {},
   "outputs": [
    {
     "name": "stdout",
     "output_type": "stream",
     "text": [
      "<re.Match object; span=(22, 29), match='pattern'>\n"
     ]
    }
   ],
   "source": [
    "print(result_search)"
   ]
  },
  {
   "cell_type": "code",
   "execution_count": 17,
   "id": "89e7fd8b",
   "metadata": {},
   "outputs": [],
   "source": [
    "# re.sub() specific text with in a string and replace it with new content.\n",
    "# re.sub(\"old text\",\"new text\",\"the string.\")\n",
    "string=r\"sara was able to help me find the items i needed quickly\"\n"
   ]
  },
  {
   "cell_type": "code",
   "execution_count": 18,
   "id": "80695ba6",
   "metadata": {},
   "outputs": [
    {
     "name": "stdout",
     "output_type": "stream",
     "text": [
      "Sarah was able to help me find the items i needed quickly\n"
     ]
    }
   ],
   "source": [
    "new_string=re.sub(\"sara\",\"Sarah\",string)\n",
    "print(new_string)"
   ]
  },
  {
   "cell_type": "code",
   "execution_count": null,
   "id": "69b725f3",
   "metadata": {},
   "outputs": [],
   "source": [
    "#\"r^a matches the string that start wiyth the letter a.\"\n"
   ]
  },
  {
   "cell_type": "code",
   "execution_count": 19,
   "id": "cfc78622",
   "metadata": {},
   "outputs": [],
   "source": [
    "customer_reviews=[\n",
    "    \"sam was a grets help to me in the storte\",\n",
    "    \"the Cashier was rude to me , I thinh her name was eleanor\",\n",
    "    \"amazing wirk from sadeen !\",\n",
    "    \"sarah was able to help me find the items I needed quickly\",\n",
    "    \"lucy is such a great addition to the team\",\n",
    "    \"great service from sara she found me what i wanted\"]\n"
   ]
  },
  {
   "cell_type": "code",
   "execution_count": null,
   "id": "096af887",
   "metadata": {},
   "outputs": [],
   "source": [
    "# review start with teh letter a\n",
    "a_review=[]\n",
    "pattern_to_find= r\"^a\"\n",
    "\n",
    "for string in customer_reviews:\n",
    "    if(re.search(pattern_to_find ,string)):\n",
    "        a_review.append(string)"
   ]
  },
  {
   "cell_type": "code",
   "execution_count": 21,
   "id": "41d020de",
   "metadata": {},
   "outputs": [
    {
     "name": "stdout",
     "output_type": "stream",
     "text": [
      "['amazing wirk from sadeen !']\n"
     ]
    }
   ],
   "source": [
    "print(a_review)"
   ]
  },
  {
   "cell_type": "code",
   "execution_count": 22,
   "id": "da865f16",
   "metadata": {},
   "outputs": [],
   "source": [
    "# review ends with teh letter y\n",
    "y_review=[]\n",
    "pattern_to_find= r\"y$\"\n",
    "\n",
    "for string in customer_reviews:\n",
    "    if(re.search(pattern_to_find ,string)):\n",
    "        y_review.append(string)"
   ]
  },
  {
   "cell_type": "code",
   "execution_count": 23,
   "id": "c3f144db",
   "metadata": {},
   "outputs": [
    {
     "name": "stdout",
     "output_type": "stream",
     "text": [
      "['sarah was able to help me find the items I needed quickly']\n"
     ]
    }
   ],
   "source": [
    "print(y_review)"
   ]
  },
  {
   "cell_type": "code",
   "execution_count": 27,
   "id": "99f142c1",
   "metadata": {},
   "outputs": [],
   "source": [
    "# match either neede or wanted \"r(need|want)ed\"\n",
    "needwant_review=[]\n",
    "pattern_to_find= r\"(need|want)ed\"\n",
    "\n",
    "for string in customer_reviews:\n",
    "    if(re.search(pattern_to_find ,string)):\n",
    "        needwant_review.append(string)"
   ]
  },
  {
   "cell_type": "code",
   "execution_count": 28,
   "id": "5fa8e04f",
   "metadata": {},
   "outputs": [
    {
     "name": "stdout",
     "output_type": "stream",
     "text": [
      "['sarah was able to help me find the items I needed quickly', 'great service from sara she found me what i wanted']\n"
     ]
    }
   ],
   "source": [
    "print(needwant_review)"
   ]
  },
  {
   "cell_type": "code",
   "execution_count": 29,
   "id": "084d92c5",
   "metadata": {},
   "outputs": [],
   "source": [
    "#removing punctautions.\n",
    "no_punct_reviews=[]\n",
    "pattern_to_find = r\"[^\\w\\s]\"\n",
    "#[] define ste of character we want to match\n",
    "# ^ not , \\w word charactres, \\s whitespaces\n"
   ]
  },
  {
   "cell_type": "code",
   "execution_count": 30,
   "id": "226b96e3",
   "metadata": {},
   "outputs": [],
   "source": [
    "for string in customer_reviews:\n",
    "    no_punct_string=re.sub(pattern_to_find, \"\", string)\n",
    "    no_punct_reviews.append(no_punct_string)"
   ]
  },
  {
   "cell_type": "code",
   "execution_count": 32,
   "id": "210d5a3f",
   "metadata": {},
   "outputs": [
    {
     "name": "stdout",
     "output_type": "stream",
     "text": [
      "['sam was a grets help to me in the storte', 'the Cashier was rude to me  I thinh her name was eleanor', 'amazing wirk from sadeen ', 'sarah was able to help me find the items I needed quickly', 'lucy is such a great addition to the team', 'great service from sara she found me what i wanted']\n"
     ]
    }
   ],
   "source": [
    "print(no_punct_reviews)"
   ]
  },
  {
   "cell_type": "code",
   "execution_count": 33,
   "id": "9e8eccec",
   "metadata": {},
   "outputs": [
    {
     "name": "stderr",
     "output_type": "stream",
     "text": [
      "[nltk_data] Downloading package punkt_tab to\n",
      "[nltk_data]     C:\\Users\\Kirat\\AppData\\Roaming\\nltk_data...\n",
      "[nltk_data]   Package punkt_tab is already up-to-date!\n"
     ]
    }
   ],
   "source": [
    "# Tkenization break text into smaller units\n",
    "import nltk\n",
    "nltk.download('punkt_tab')\n",
    "from nltk.tokenize import word_tokenize , sent_tokenize"
   ]
  },
  {
   "cell_type": "code",
   "execution_count": 34,
   "id": "ba60c075",
   "metadata": {},
   "outputs": [],
   "source": [
    "sentence=\"her cat name is luna, Her dog's name is jatt\""
   ]
  },
  {
   "cell_type": "code",
   "execution_count": 35,
   "id": "f8d0e40c",
   "metadata": {},
   "outputs": [
    {
     "data": {
      "text/plain": [
       "[\"her cat name is luna, Her dog's name is jatt\"]"
      ]
     },
     "execution_count": 35,
     "metadata": {},
     "output_type": "execute_result"
    }
   ],
   "source": [
    "sent_tokenize(sentence)"
   ]
  },
  {
   "cell_type": "code",
   "execution_count": 36,
   "id": "2a599c54",
   "metadata": {},
   "outputs": [
    {
     "data": {
      "text/plain": [
       "['her', 'cat', \"'s\", 'name', 'is', 'is', 'Luna']"
      ]
     },
     "execution_count": 36,
     "metadata": {},
     "output_type": "execute_result"
    }
   ],
   "source": [
    "sentence_1=\"her cat's name is is Luna\"\n",
    "word_tokenize(sentence_1)"
   ]
  },
  {
   "cell_type": "code",
   "execution_count": 37,
   "id": "c8d17961",
   "metadata": {},
   "outputs": [],
   "source": [
    "#stemming-> reduce word to their base word connected, connecting to connect\n",
    "# studies to stud.\n",
    "from nltk.stem import PorterStemmer"
   ]
  },
  {
   "cell_type": "code",
   "execution_count": 38,
   "id": "a63424d0",
   "metadata": {},
   "outputs": [],
   "source": [
    "ps=PorterStemmer()"
   ]
  },
  {
   "cell_type": "code",
   "execution_count": 39,
   "id": "7d8a6205",
   "metadata": {},
   "outputs": [],
   "source": [
    "connect_tokens=['connecting', 'connected', 'connectivity','connect','connects']"
   ]
  },
  {
   "cell_type": "code",
   "execution_count": 40,
   "id": "b9305302",
   "metadata": {},
   "outputs": [
    {
     "name": "stdout",
     "output_type": "stream",
     "text": [
      "connecting :  connect\n",
      "connected :  connect\n",
      "connectivity :  connect\n",
      "connect :  connect\n",
      "connects :  connect\n"
     ]
    }
   ],
   "source": [
    "for t in connect_tokens:\n",
    "    print(t, \": \", ps.stem(t))"
   ]
  },
  {
   "cell_type": "code",
   "execution_count": 43,
   "id": "cca037b2",
   "metadata": {},
   "outputs": [],
   "source": [
    "learn_tokens =['learned','learning','learn','learns','learner','learners']"
   ]
  },
  {
   "cell_type": "code",
   "execution_count": 44,
   "id": "51550892",
   "metadata": {},
   "outputs": [
    {
     "name": "stdout",
     "output_type": "stream",
     "text": [
      "learned :  learn\n",
      "learning :  learn\n",
      "learn :  learn\n",
      "learns :  learn\n",
      "learner :  learner\n",
      "learners :  learner\n"
     ]
    }
   ],
   "source": [
    "for t in learn_tokens:\n",
    "    print(t, \": \", ps.stem(t))"
   ]
  },
  {
   "cell_type": "code",
   "execution_count": 45,
   "id": "5e85fa00",
   "metadata": {},
   "outputs": [
    {
     "name": "stderr",
     "output_type": "stream",
     "text": [
      "[nltk_data] Downloading package wordnet to\n",
      "[nltk_data]     C:\\Users\\Kirat\\AppData\\Roaming\\nltk_data...\n"
     ]
    }
   ],
   "source": [
    "#lemmatization reduces a word to a meaningful base form while preserving its meaning\n",
    "nltk.download('wordnet')\n",
    "from nltk.stem import WordNetLemmatizer"
   ]
  },
  {
   "cell_type": "code",
   "execution_count": 46,
   "id": "15bf0259",
   "metadata": {},
   "outputs": [],
   "source": [
    "lemmatizer = WordNetLemmatizer()"
   ]
  },
  {
   "cell_type": "code",
   "execution_count": 47,
   "id": "1c839e8d",
   "metadata": {},
   "outputs": [
    {
     "name": "stdout",
     "output_type": "stream",
     "text": [
      "connecting :  connecting\n",
      "connected :  connected\n",
      "connectivity :  connectivity\n",
      "connect :  connect\n",
      "connects :  connects\n"
     ]
    }
   ],
   "source": [
    "for t in connect_tokens:\n",
    "    print(t, \": \", lemmatizer.lemmatize(t))"
   ]
  },
  {
   "cell_type": "code",
   "execution_count": 48,
   "id": "0f65a875",
   "metadata": {},
   "outputs": [],
   "source": [
    "#Ngrams  analyze relationship between the neighbours word\n",
    "# N=1 unigram\n",
    "#n=2 bigrams\n",
    "#n=3 trigrams\n",
    "import pandas as pd\n",
    "import matplotlib.pyplot as plt"
   ]
  },
  {
   "cell_type": "code",
   "execution_count": 50,
   "id": "731f3633",
   "metadata": {},
   "outputs": [
    {
     "name": "stdout",
     "output_type": "stream",
     "text": [
      "['the', 'risse', 'of', 'artificila', 'intelligence']\n"
     ]
    }
   ],
   "source": [
    "tokens= ['the','risse','of','artificila','intelligence']\n",
    "print(tokens)"
   ]
  },
  {
   "cell_type": "code",
   "execution_count": null,
   "id": "feda2b4b",
   "metadata": {},
   "outputs": [],
   "source": [
    "#unigram=(Pd.Series(nltk.ngrams(tokens, 1)).value_counts())"
   ]
  },
  {
   "cell_type": "code",
   "execution_count": 51,
   "id": "fe0c639c",
   "metadata": {},
   "outputs": [],
   "source": [
    "data=pd.read_csv('tripadvisor_hotel_reviews.csv')"
   ]
  },
  {
   "cell_type": "code",
   "execution_count": 52,
   "id": "232afe44",
   "metadata": {},
   "outputs": [
    {
     "data": {
      "text/html": [
       "<div>\n",
       "<style scoped>\n",
       "    .dataframe tbody tr th:only-of-type {\n",
       "        vertical-align: middle;\n",
       "    }\n",
       "\n",
       "    .dataframe tbody tr th {\n",
       "        vertical-align: top;\n",
       "    }\n",
       "\n",
       "    .dataframe thead th {\n",
       "        text-align: right;\n",
       "    }\n",
       "</style>\n",
       "<table border=\"1\" class=\"dataframe\">\n",
       "  <thead>\n",
       "    <tr style=\"text-align: right;\">\n",
       "      <th></th>\n",
       "      <th>Review</th>\n",
       "      <th>Rating</th>\n",
       "    </tr>\n",
       "  </thead>\n",
       "  <tbody>\n",
       "    <tr>\n",
       "      <th>0</th>\n",
       "      <td>nice hotel expensive parking got good deal sta...</td>\n",
       "      <td>4</td>\n",
       "    </tr>\n",
       "    <tr>\n",
       "      <th>1</th>\n",
       "      <td>ok nothing special charge diamond member hilto...</td>\n",
       "      <td>2</td>\n",
       "    </tr>\n",
       "    <tr>\n",
       "      <th>2</th>\n",
       "      <td>nice rooms not 4* experience hotel monaco seat...</td>\n",
       "      <td>3</td>\n",
       "    </tr>\n",
       "    <tr>\n",
       "      <th>3</th>\n",
       "      <td>unique, great stay, wonderful time hotel monac...</td>\n",
       "      <td>5</td>\n",
       "    </tr>\n",
       "    <tr>\n",
       "      <th>4</th>\n",
       "      <td>great stay great stay, went seahawk game aweso...</td>\n",
       "      <td>5</td>\n",
       "    </tr>\n",
       "  </tbody>\n",
       "</table>\n",
       "</div>"
      ],
      "text/plain": [
       "                                              Review  Rating\n",
       "0  nice hotel expensive parking got good deal sta...       4\n",
       "1  ok nothing special charge diamond member hilto...       2\n",
       "2  nice rooms not 4* experience hotel monaco seat...       3\n",
       "3  unique, great stay, wonderful time hotel monac...       5\n",
       "4  great stay great stay, went seahawk game aweso...       5"
      ]
     },
     "execution_count": 52,
     "metadata": {},
     "output_type": "execute_result"
    }
   ],
   "source": [
    "data.head()"
   ]
  },
  {
   "cell_type": "code",
   "execution_count": 53,
   "id": "06bcd6ec",
   "metadata": {},
   "outputs": [
    {
     "name": "stdout",
     "output_type": "stream",
     "text": [
      "<class 'pandas.core.frame.DataFrame'>\n",
      "RangeIndex: 109 entries, 0 to 108\n",
      "Data columns (total 2 columns):\n",
      " #   Column  Non-Null Count  Dtype \n",
      "---  ------  --------------  ----- \n",
      " 0   Review  109 non-null    object\n",
      " 1   Rating  109 non-null    int64 \n",
      "dtypes: int64(1), object(1)\n",
      "memory usage: 1.8+ KB\n"
     ]
    }
   ],
   "source": [
    "data.info()"
   ]
  },
  {
   "cell_type": "code",
   "execution_count": 54,
   "id": "7e31b9bb",
   "metadata": {},
   "outputs": [
    {
     "data": {
      "text/plain": [
       "'nice hotel expensive parking got good deal stay hotel anniversary, arrived late evening took advice previous reviews did valet parking, check quick easy, little disappointed non-existent view room room clean nice size, bed comfortable woke stiff neck high pillows, not soundproof like heard music room night morning loud bangs doors opening closing hear people talking hallway, maybe just noisy neighbors, aveda bath products nice, did not goldfish stay nice touch taken advantage staying longer, location great walking distance shopping, overall nice experience having pay 40 parking night,  '"
      ]
     },
     "execution_count": 54,
     "metadata": {},
     "output_type": "execute_result"
    }
   ],
   "source": [
    "data[\"Review\"][0]"
   ]
  },
  {
   "cell_type": "code",
   "execution_count": 55,
   "id": "0978a5d4",
   "metadata": {},
   "outputs": [],
   "source": [
    "data['Review_lowercase']=data['Review'].str.lower()"
   ]
  },
  {
   "cell_type": "code",
   "execution_count": 56,
   "id": "72040612",
   "metadata": {},
   "outputs": [
    {
     "data": {
      "text/html": [
       "<div>\n",
       "<style scoped>\n",
       "    .dataframe tbody tr th:only-of-type {\n",
       "        vertical-align: middle;\n",
       "    }\n",
       "\n",
       "    .dataframe tbody tr th {\n",
       "        vertical-align: top;\n",
       "    }\n",
       "\n",
       "    .dataframe thead th {\n",
       "        text-align: right;\n",
       "    }\n",
       "</style>\n",
       "<table border=\"1\" class=\"dataframe\">\n",
       "  <thead>\n",
       "    <tr style=\"text-align: right;\">\n",
       "      <th></th>\n",
       "      <th>Review</th>\n",
       "      <th>Rating</th>\n",
       "      <th>Review_lowercase</th>\n",
       "    </tr>\n",
       "  </thead>\n",
       "  <tbody>\n",
       "    <tr>\n",
       "      <th>0</th>\n",
       "      <td>nice hotel expensive parking got good deal sta...</td>\n",
       "      <td>4</td>\n",
       "      <td>nice hotel expensive parking got good deal sta...</td>\n",
       "    </tr>\n",
       "    <tr>\n",
       "      <th>1</th>\n",
       "      <td>ok nothing special charge diamond member hilto...</td>\n",
       "      <td>2</td>\n",
       "      <td>ok nothing special charge diamond member hilto...</td>\n",
       "    </tr>\n",
       "    <tr>\n",
       "      <th>2</th>\n",
       "      <td>nice rooms not 4* experience hotel monaco seat...</td>\n",
       "      <td>3</td>\n",
       "      <td>nice rooms not 4* experience hotel monaco seat...</td>\n",
       "    </tr>\n",
       "    <tr>\n",
       "      <th>3</th>\n",
       "      <td>unique, great stay, wonderful time hotel monac...</td>\n",
       "      <td>5</td>\n",
       "      <td>unique, great stay, wonderful time hotel monac...</td>\n",
       "    </tr>\n",
       "    <tr>\n",
       "      <th>4</th>\n",
       "      <td>great stay great stay, went seahawk game aweso...</td>\n",
       "      <td>5</td>\n",
       "      <td>great stay great stay, went seahawk game aweso...</td>\n",
       "    </tr>\n",
       "  </tbody>\n",
       "</table>\n",
       "</div>"
      ],
      "text/plain": [
       "                                              Review  ...                                   Review_lowercase\n",
       "0  nice hotel expensive parking got good deal sta...  ...  nice hotel expensive parking got good deal sta...\n",
       "1  ok nothing special charge diamond member hilto...  ...  ok nothing special charge diamond member hilto...\n",
       "2  nice rooms not 4* experience hotel monaco seat...  ...  nice rooms not 4* experience hotel monaco seat...\n",
       "3  unique, great stay, wonderful time hotel monac...  ...  unique, great stay, wonderful time hotel monac...\n",
       "4  great stay great stay, went seahawk game aweso...  ...  great stay great stay, went seahawk game aweso...\n",
       "\n",
       "[5 rows x 3 columns]"
      ]
     },
     "execution_count": 56,
     "metadata": {},
     "output_type": "execute_result"
    }
   ],
   "source": [
    "data.head()"
   ]
  },
  {
   "cell_type": "code",
   "execution_count": null,
   "id": "7fd661e9",
   "metadata": {},
   "outputs": [],
   "source": [
    "en_stopwords=stopwords.words('english')"
   ]
  },
  {
   "cell_type": "code",
   "execution_count": 57,
   "id": "855ee83d",
   "metadata": {},
   "outputs": [],
   "source": [
    "en_stopwords.remove(\"not\")"
   ]
  },
  {
   "cell_type": "code",
   "execution_count": 60,
   "id": "9c38f9d0",
   "metadata": {},
   "outputs": [],
   "source": [
    "data['review_no_stopwords']=data['Review_lowercase'].apply(lambda x: ' '.join([word for word in x.split() if word not in (en_stopwords)]))"
   ]
  },
  {
   "cell_type": "code",
   "execution_count": 61,
   "id": "65663913",
   "metadata": {},
   "outputs": [
    {
     "data": {
      "text/plain": [
       "'nice hotel expensive parking got good deal stay hotel anniversary, arrived late evening took advice previous reviews valet parking, check quick easy, little disappointed non-existent view room room clean nice size, bed comfortable woke stiff neck high pillows, not soundproof like heard music room night morning loud bangs doors opening closing hear people talking hallway, maybe noisy neighbors, aveda bath products nice, not goldfish stay nice touch taken advantage staying longer, location great walking distance shopping, overall nice experience pay 40 parking night,'"
      ]
     },
     "execution_count": 61,
     "metadata": {},
     "output_type": "execute_result"
    }
   ],
   "source": [
    "data['review_no_stopwords'][0]"
   ]
  },
  {
   "cell_type": "code",
   "execution_count": 63,
   "id": "97595b24",
   "metadata": {},
   "outputs": [],
   "source": [
    "data['review_no_stopwords_no_punct']=data.apply(lambda x: re.sub(r\"[*]\",\"star\", x['review_no_stopwords']),axis=1)"
   ]
  },
  {
   "cell_type": "code",
   "execution_count": 64,
   "id": "d5b009f0",
   "metadata": {},
   "outputs": [
    {
     "data": {
      "text/html": [
       "<div>\n",
       "<style scoped>\n",
       "    .dataframe tbody tr th:only-of-type {\n",
       "        vertical-align: middle;\n",
       "    }\n",
       "\n",
       "    .dataframe tbody tr th {\n",
       "        vertical-align: top;\n",
       "    }\n",
       "\n",
       "    .dataframe thead th {\n",
       "        text-align: right;\n",
       "    }\n",
       "</style>\n",
       "<table border=\"1\" class=\"dataframe\">\n",
       "  <thead>\n",
       "    <tr style=\"text-align: right;\">\n",
       "      <th></th>\n",
       "      <th>Review</th>\n",
       "      <th>Rating</th>\n",
       "      <th>Review_lowercase</th>\n",
       "      <th>review_no_stopwords</th>\n",
       "      <th>review_no_stopwords_no_punct</th>\n",
       "    </tr>\n",
       "  </thead>\n",
       "  <tbody>\n",
       "    <tr>\n",
       "      <th>0</th>\n",
       "      <td>nice hotel expensive parking got good deal sta...</td>\n",
       "      <td>4</td>\n",
       "      <td>nice hotel expensive parking got good deal sta...</td>\n",
       "      <td>nice hotel expensive parking got good deal sta...</td>\n",
       "      <td>nice hotel expensive parking got good deal sta...</td>\n",
       "    </tr>\n",
       "    <tr>\n",
       "      <th>1</th>\n",
       "      <td>ok nothing special charge diamond member hilto...</td>\n",
       "      <td>2</td>\n",
       "      <td>ok nothing special charge diamond member hilto...</td>\n",
       "      <td>ok nothing special charge diamond member hilto...</td>\n",
       "      <td>ok nothing special charge diamond member hilto...</td>\n",
       "    </tr>\n",
       "    <tr>\n",
       "      <th>2</th>\n",
       "      <td>nice rooms not 4* experience hotel monaco seat...</td>\n",
       "      <td>3</td>\n",
       "      <td>nice rooms not 4* experience hotel monaco seat...</td>\n",
       "      <td>nice rooms not 4* experience hotel monaco seat...</td>\n",
       "      <td>nice rooms not 4star experience hotel monaco s...</td>\n",
       "    </tr>\n",
       "    <tr>\n",
       "      <th>3</th>\n",
       "      <td>unique, great stay, wonderful time hotel monac...</td>\n",
       "      <td>5</td>\n",
       "      <td>unique, great stay, wonderful time hotel monac...</td>\n",
       "      <td>unique, great stay, wonderful time hotel monac...</td>\n",
       "      <td>unique, great stay, wonderful time hotel monac...</td>\n",
       "    </tr>\n",
       "    <tr>\n",
       "      <th>4</th>\n",
       "      <td>great stay great stay, went seahawk game aweso...</td>\n",
       "      <td>5</td>\n",
       "      <td>great stay great stay, went seahawk game aweso...</td>\n",
       "      <td>great stay great stay, went seahawk game aweso...</td>\n",
       "      <td>great stay great stay, went seahawk game aweso...</td>\n",
       "    </tr>\n",
       "  </tbody>\n",
       "</table>\n",
       "</div>"
      ],
      "text/plain": [
       "                                              Review  ...                       review_no_stopwords_no_punct\n",
       "0  nice hotel expensive parking got good deal sta...  ...  nice hotel expensive parking got good deal sta...\n",
       "1  ok nothing special charge diamond member hilto...  ...  ok nothing special charge diamond member hilto...\n",
       "2  nice rooms not 4* experience hotel monaco seat...  ...  nice rooms not 4star experience hotel monaco s...\n",
       "3  unique, great stay, wonderful time hotel monac...  ...  unique, great stay, wonderful time hotel monac...\n",
       "4  great stay great stay, went seahawk game aweso...  ...  great stay great stay, went seahawk game aweso...\n",
       "\n",
       "[5 rows x 5 columns]"
      ]
     },
     "execution_count": 64,
     "metadata": {},
     "output_type": "execute_result"
    }
   ],
   "source": [
    "data.head()"
   ]
  },
  {
   "cell_type": "code",
   "execution_count": 65,
   "id": "e078c888",
   "metadata": {},
   "outputs": [],
   "source": [
    "data['review_no_stopwords_no_punct'] = data.apply(lambda x: re.sub(r\"([^\\w\\s])\",\"\", x['review_no_stopwords_no_punct']),axis=1)"
   ]
  },
  {
   "cell_type": "code",
   "execution_count": 66,
   "id": "b9bb0b7a",
   "metadata": {},
   "outputs": [
    {
     "data": {
      "text/html": [
       "<div>\n",
       "<style scoped>\n",
       "    .dataframe tbody tr th:only-of-type {\n",
       "        vertical-align: middle;\n",
       "    }\n",
       "\n",
       "    .dataframe tbody tr th {\n",
       "        vertical-align: top;\n",
       "    }\n",
       "\n",
       "    .dataframe thead th {\n",
       "        text-align: right;\n",
       "    }\n",
       "</style>\n",
       "<table border=\"1\" class=\"dataframe\">\n",
       "  <thead>\n",
       "    <tr style=\"text-align: right;\">\n",
       "      <th></th>\n",
       "      <th>Review</th>\n",
       "      <th>Rating</th>\n",
       "      <th>Review_lowercase</th>\n",
       "      <th>review_no_stopwords</th>\n",
       "      <th>review_no_stopwords_no_punct</th>\n",
       "    </tr>\n",
       "  </thead>\n",
       "  <tbody>\n",
       "    <tr>\n",
       "      <th>0</th>\n",
       "      <td>nice hotel expensive parking got good deal sta...</td>\n",
       "      <td>4</td>\n",
       "      <td>nice hotel expensive parking got good deal sta...</td>\n",
       "      <td>nice hotel expensive parking got good deal sta...</td>\n",
       "      <td>nice hotel expensive parking got good deal sta...</td>\n",
       "    </tr>\n",
       "    <tr>\n",
       "      <th>1</th>\n",
       "      <td>ok nothing special charge diamond member hilto...</td>\n",
       "      <td>2</td>\n",
       "      <td>ok nothing special charge diamond member hilto...</td>\n",
       "      <td>ok nothing special charge diamond member hilto...</td>\n",
       "      <td>ok nothing special charge diamond member hilto...</td>\n",
       "    </tr>\n",
       "    <tr>\n",
       "      <th>2</th>\n",
       "      <td>nice rooms not 4* experience hotel monaco seat...</td>\n",
       "      <td>3</td>\n",
       "      <td>nice rooms not 4* experience hotel monaco seat...</td>\n",
       "      <td>nice rooms not 4* experience hotel monaco seat...</td>\n",
       "      <td>nice rooms not 4star experience hotel monaco s...</td>\n",
       "    </tr>\n",
       "    <tr>\n",
       "      <th>3</th>\n",
       "      <td>unique, great stay, wonderful time hotel monac...</td>\n",
       "      <td>5</td>\n",
       "      <td>unique, great stay, wonderful time hotel monac...</td>\n",
       "      <td>unique, great stay, wonderful time hotel monac...</td>\n",
       "      <td>unique great stay wonderful time hotel monaco ...</td>\n",
       "    </tr>\n",
       "    <tr>\n",
       "      <th>4</th>\n",
       "      <td>great stay great stay, went seahawk game aweso...</td>\n",
       "      <td>5</td>\n",
       "      <td>great stay great stay, went seahawk game aweso...</td>\n",
       "      <td>great stay great stay, went seahawk game aweso...</td>\n",
       "      <td>great stay great stay went seahawk game awesom...</td>\n",
       "    </tr>\n",
       "  </tbody>\n",
       "</table>\n",
       "</div>"
      ],
      "text/plain": [
       "                                              Review  ...                       review_no_stopwords_no_punct\n",
       "0  nice hotel expensive parking got good deal sta...  ...  nice hotel expensive parking got good deal sta...\n",
       "1  ok nothing special charge diamond member hilto...  ...  ok nothing special charge diamond member hilto...\n",
       "2  nice rooms not 4* experience hotel monaco seat...  ...  nice rooms not 4star experience hotel monaco s...\n",
       "3  unique, great stay, wonderful time hotel monac...  ...  unique great stay wonderful time hotel monaco ...\n",
       "4  great stay great stay, went seahawk game aweso...  ...  great stay great stay went seahawk game awesom...\n",
       "\n",
       "[5 rows x 5 columns]"
      ]
     },
     "execution_count": 66,
     "metadata": {},
     "output_type": "execute_result"
    }
   ],
   "source": [
    "data.head()"
   ]
  },
  {
   "cell_type": "code",
   "execution_count": 67,
   "id": "6c5b392a",
   "metadata": {},
   "outputs": [],
   "source": [
    "data['tokenized']=data.apply(lambda x: word_tokenize(x['review_no_stopwords_no_punct']),axis=1)"
   ]
  },
  {
   "cell_type": "code",
   "execution_count": 68,
   "id": "61a5957c",
   "metadata": {},
   "outputs": [
    {
     "data": {
      "text/plain": [
       "['nice',\n",
       " 'hotel',\n",
       " 'expensive',\n",
       " 'parking',\n",
       " 'got',\n",
       " 'good',\n",
       " 'deal',\n",
       " 'stay',\n",
       " 'hotel',\n",
       " 'anniversary',\n",
       " 'arrived',\n",
       " 'late',\n",
       " 'evening',\n",
       " 'took',\n",
       " 'advice',\n",
       " 'previous',\n",
       " 'reviews',\n",
       " 'valet',\n",
       " 'parking',\n",
       " 'check',\n",
       " 'quick',\n",
       " 'easy',\n",
       " 'little',\n",
       " 'disappointed',\n",
       " 'nonexistent',\n",
       " 'view',\n",
       " 'room',\n",
       " 'room',\n",
       " 'clean',\n",
       " 'nice',\n",
       " 'size',\n",
       " 'bed',\n",
       " 'comfortable',\n",
       " 'woke',\n",
       " 'stiff',\n",
       " 'neck',\n",
       " 'high',\n",
       " 'pillows',\n",
       " 'not',\n",
       " 'soundproof',\n",
       " 'like',\n",
       " 'heard',\n",
       " 'music',\n",
       " 'room',\n",
       " 'night',\n",
       " 'morning',\n",
       " 'loud',\n",
       " 'bangs',\n",
       " 'doors',\n",
       " 'opening',\n",
       " 'closing',\n",
       " 'hear',\n",
       " 'people',\n",
       " 'talking',\n",
       " 'hallway',\n",
       " 'maybe',\n",
       " 'noisy',\n",
       " 'neighbors',\n",
       " 'aveda',\n",
       " 'bath',\n",
       " 'products',\n",
       " 'nice',\n",
       " 'not',\n",
       " 'goldfish',\n",
       " 'stay',\n",
       " 'nice',\n",
       " 'touch',\n",
       " 'taken',\n",
       " 'advantage',\n",
       " 'staying',\n",
       " 'longer',\n",
       " 'location',\n",
       " 'great',\n",
       " 'walking',\n",
       " 'distance',\n",
       " 'shopping',\n",
       " 'overall',\n",
       " 'nice',\n",
       " 'experience',\n",
       " 'pay',\n",
       " '40',\n",
       " 'parking',\n",
       " 'night']"
      ]
     },
     "execution_count": 68,
     "metadata": {},
     "output_type": "execute_result"
    }
   ],
   "source": [
    "data['tokenized'][0]"
   ]
  },
  {
   "cell_type": "code",
   "execution_count": 69,
   "id": "962ded2e",
   "metadata": {},
   "outputs": [],
   "source": [
    "ps=PorterStemmer()"
   ]
  },
  {
   "cell_type": "code",
   "execution_count": 70,
   "id": "39f9ab81",
   "metadata": {},
   "outputs": [],
   "source": [
    "data['stemmed']=data['tokenized'].apply(lambda tokens: [ps.stem(token) for token in tokens])"
   ]
  },
  {
   "cell_type": "code",
   "execution_count": 71,
   "id": "e936812b",
   "metadata": {},
   "outputs": [
    {
     "data": {
      "text/html": [
       "<div>\n",
       "<style scoped>\n",
       "    .dataframe tbody tr th:only-of-type {\n",
       "        vertical-align: middle;\n",
       "    }\n",
       "\n",
       "    .dataframe tbody tr th {\n",
       "        vertical-align: top;\n",
       "    }\n",
       "\n",
       "    .dataframe thead th {\n",
       "        text-align: right;\n",
       "    }\n",
       "</style>\n",
       "<table border=\"1\" class=\"dataframe\">\n",
       "  <thead>\n",
       "    <tr style=\"text-align: right;\">\n",
       "      <th></th>\n",
       "      <th>Review</th>\n",
       "      <th>Rating</th>\n",
       "      <th>Review_lowercase</th>\n",
       "      <th>review_no_stopwords</th>\n",
       "      <th>review_no_stopwords_no_punct</th>\n",
       "      <th>tokenized</th>\n",
       "      <th>stemmed</th>\n",
       "    </tr>\n",
       "  </thead>\n",
       "  <tbody>\n",
       "    <tr>\n",
       "      <th>0</th>\n",
       "      <td>nice hotel expensive parking got good deal sta...</td>\n",
       "      <td>4</td>\n",
       "      <td>nice hotel expensive parking got good deal sta...</td>\n",
       "      <td>nice hotel expensive parking got good deal sta...</td>\n",
       "      <td>nice hotel expensive parking got good deal sta...</td>\n",
       "      <td>[nice, hotel, expensive, parking, got, good, d...</td>\n",
       "      <td>[nice, hotel, expens, park, got, good, deal, s...</td>\n",
       "    </tr>\n",
       "    <tr>\n",
       "      <th>1</th>\n",
       "      <td>ok nothing special charge diamond member hilto...</td>\n",
       "      <td>2</td>\n",
       "      <td>ok nothing special charge diamond member hilto...</td>\n",
       "      <td>ok nothing special charge diamond member hilto...</td>\n",
       "      <td>ok nothing special charge diamond member hilto...</td>\n",
       "      <td>[ok, nothing, special, charge, diamond, member...</td>\n",
       "      <td>[ok, noth, special, charg, diamond, member, hi...</td>\n",
       "    </tr>\n",
       "    <tr>\n",
       "      <th>2</th>\n",
       "      <td>nice rooms not 4* experience hotel monaco seat...</td>\n",
       "      <td>3</td>\n",
       "      <td>nice rooms not 4* experience hotel monaco seat...</td>\n",
       "      <td>nice rooms not 4* experience hotel monaco seat...</td>\n",
       "      <td>nice rooms not 4star experience hotel monaco s...</td>\n",
       "      <td>[nice, rooms, not, 4star, experience, hotel, m...</td>\n",
       "      <td>[nice, room, not, 4star, experi, hotel, monaco...</td>\n",
       "    </tr>\n",
       "    <tr>\n",
       "      <th>3</th>\n",
       "      <td>unique, great stay, wonderful time hotel monac...</td>\n",
       "      <td>5</td>\n",
       "      <td>unique, great stay, wonderful time hotel monac...</td>\n",
       "      <td>unique, great stay, wonderful time hotel monac...</td>\n",
       "      <td>unique great stay wonderful time hotel monaco ...</td>\n",
       "      <td>[unique, great, stay, wonderful, time, hotel, ...</td>\n",
       "      <td>[uniqu, great, stay, wonder, time, hotel, mona...</td>\n",
       "    </tr>\n",
       "    <tr>\n",
       "      <th>4</th>\n",
       "      <td>great stay great stay, went seahawk game aweso...</td>\n",
       "      <td>5</td>\n",
       "      <td>great stay great stay, went seahawk game aweso...</td>\n",
       "      <td>great stay great stay, went seahawk game aweso...</td>\n",
       "      <td>great stay great stay went seahawk game awesom...</td>\n",
       "      <td>[great, stay, great, stay, went, seahawk, game...</td>\n",
       "      <td>[great, stay, great, stay, went, seahawk, game...</td>\n",
       "    </tr>\n",
       "  </tbody>\n",
       "</table>\n",
       "</div>"
      ],
      "text/plain": [
       "                                              Review  ...                                            stemmed\n",
       "0  nice hotel expensive parking got good deal sta...  ...  [nice, hotel, expens, park, got, good, deal, s...\n",
       "1  ok nothing special charge diamond member hilto...  ...  [ok, noth, special, charg, diamond, member, hi...\n",
       "2  nice rooms not 4* experience hotel monaco seat...  ...  [nice, room, not, 4star, experi, hotel, monaco...\n",
       "3  unique, great stay, wonderful time hotel monac...  ...  [uniqu, great, stay, wonder, time, hotel, mona...\n",
       "4  great stay great stay, went seahawk game aweso...  ...  [great, stay, great, stay, went, seahawk, game...\n",
       "\n",
       "[5 rows x 7 columns]"
      ]
     },
     "execution_count": 71,
     "metadata": {},
     "output_type": "execute_result"
    }
   ],
   "source": [
    "data.head()"
   ]
  },
  {
   "cell_type": "code",
   "execution_count": 72,
   "id": "06a4c215",
   "metadata": {},
   "outputs": [],
   "source": [
    "lemmatizer=WordNetLemmatizer()"
   ]
  },
  {
   "cell_type": "code",
   "execution_count": 73,
   "id": "254f64ee",
   "metadata": {},
   "outputs": [],
   "source": [
    "data['lemmatized'] = data['tokenized'].apply(lambda tokens: [lemmatizer.lemmatize(token) for token in tokens])"
   ]
  },
  {
   "cell_type": "code",
   "execution_count": 74,
   "id": "868eb658",
   "metadata": {},
   "outputs": [
    {
     "data": {
      "text/plain": [
       "['nice',\n",
       " 'hotel',\n",
       " 'expensive',\n",
       " 'parking',\n",
       " 'got',\n",
       " 'good',\n",
       " 'deal',\n",
       " 'stay',\n",
       " 'hotel',\n",
       " 'anniversary',\n",
       " 'arrived',\n",
       " 'late',\n",
       " 'evening',\n",
       " 'took',\n",
       " 'advice',\n",
       " 'previous',\n",
       " 'review',\n",
       " 'valet',\n",
       " 'parking',\n",
       " 'check',\n",
       " 'quick',\n",
       " 'easy',\n",
       " 'little',\n",
       " 'disappointed',\n",
       " 'nonexistent',\n",
       " 'view',\n",
       " 'room',\n",
       " 'room',\n",
       " 'clean',\n",
       " 'nice',\n",
       " 'size',\n",
       " 'bed',\n",
       " 'comfortable',\n",
       " 'woke',\n",
       " 'stiff',\n",
       " 'neck',\n",
       " 'high',\n",
       " 'pillow',\n",
       " 'not',\n",
       " 'soundproof',\n",
       " 'like',\n",
       " 'heard',\n",
       " 'music',\n",
       " 'room',\n",
       " 'night',\n",
       " 'morning',\n",
       " 'loud',\n",
       " 'bang',\n",
       " 'door',\n",
       " 'opening',\n",
       " 'closing',\n",
       " 'hear',\n",
       " 'people',\n",
       " 'talking',\n",
       " 'hallway',\n",
       " 'maybe',\n",
       " 'noisy',\n",
       " 'neighbor',\n",
       " 'aveda',\n",
       " 'bath',\n",
       " 'product',\n",
       " 'nice',\n",
       " 'not',\n",
       " 'goldfish',\n",
       " 'stay',\n",
       " 'nice',\n",
       " 'touch',\n",
       " 'taken',\n",
       " 'advantage',\n",
       " 'staying',\n",
       " 'longer',\n",
       " 'location',\n",
       " 'great',\n",
       " 'walking',\n",
       " 'distance',\n",
       " 'shopping',\n",
       " 'overall',\n",
       " 'nice',\n",
       " 'experience',\n",
       " 'pay',\n",
       " '40',\n",
       " 'parking',\n",
       " 'night']"
      ]
     },
     "execution_count": 74,
     "metadata": {},
     "output_type": "execute_result"
    }
   ],
   "source": [
    "data['lemmatized'][0]"
   ]
  },
  {
   "cell_type": "code",
   "execution_count": 75,
   "id": "9a648917",
   "metadata": {},
   "outputs": [],
   "source": [
    "tokens_clean = sum(data['lemmatized'], [])"
   ]
  },
  {
   "cell_type": "code",
   "execution_count": 77,
   "id": "5219dbca",
   "metadata": {},
   "outputs": [
    {
     "name": "stdout",
     "output_type": "stream",
     "text": [
      "(hotel,)           292\n",
      "(room,)            275\n",
      "(great,)           126\n",
      "(not,)             122\n",
      "(stay,)             95\n",
      "                  ... \n",
      "(singaporewe,)       1\n",
      "(australian,)        1\n",
      "(australiaour,)      1\n",
      "(exception,)         1\n",
      "(nightyou,)          1\n",
      "Name: count, Length: 2589, dtype: int64\n"
     ]
    }
   ],
   "source": [
    "unigrams=(pd.Series(nltk.ngrams(tokens_clean, 1)).value_counts())\n",
    "print(unigrams)"
   ]
  },
  {
   "cell_type": "code",
   "execution_count": 78,
   "id": "6263cb11",
   "metadata": {},
   "outputs": [
    {
     "name": "stdout",
     "output_type": "stream",
     "text": [
      "(great, location)          24\n",
      "(space, needle)            21\n",
      "(hotel, monaco)            16\n",
      "(staff, friendly)          12\n",
      "(pike, place)              12\n",
      "                           ..\n",
      "(looking, decorated)        1\n",
      "(decorated, maintained)     1\n",
      "(maintained, staff)         1\n",
      "(professional, large)       1\n",
      "(food, raffle)              1\n",
      "Name: count, Length: 8263, dtype: int64\n"
     ]
    }
   ],
   "source": [
    "Bigrams=(pd.Series(nltk.ngrams(tokens_clean, 2)).value_counts())\n",
    "print(Bigrams)\n"
   ]
  }
 ],
 "metadata": {
  "kernelspec": {
   "display_name": "requirements",
   "language": "python",
   "name": "python3"
  },
  "language_info": {
   "codemirror_mode": {
    "name": "ipython",
    "version": 3
   },
   "file_extension": ".py",
   "mimetype": "text/x-python",
   "name": "python",
   "nbconvert_exporter": "python",
   "pygments_lexer": "ipython3",
   "version": "3.13.0"
  }
 },
 "nbformat": 4,
 "nbformat_minor": 5
}
